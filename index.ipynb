{
 "cells": [
  {
   "cell_type": "code",
   "execution_count": 1,
   "id": "9600a7f2",
   "metadata": {
    "slideshow": {
     "slide_type": "skip"
    }
   },
   "outputs": [
    {
     "name": "stderr",
     "output_type": "stream",
     "text": [
      "Fontconfig warning: ignoring UTF-8: not a valid region tag\n"
     ]
    },
    {
     "data": {
      "application/mercury+json": "{\n    \"widget\": \"App\",\n    \"title\": \"Slides demo \\ud83d\\udcdd\",\n    \"description\": \"Wouldn't it be amazing to recompute slides during the show?\",\n    \"show_code\": false,\n    \"show_prompt\": false,\n    \"output\": \"app\",\n    \"schedule\": \"\",\n    \"notify\": \"{}\",\n    \"continuous_update\": true,\n    \"static_notebook\": false,\n    \"show_sidebar\": true,\n    \"full_screen\": true,\n    \"allow_download\": true,\n    \"stop_on_error\": false,\n    \"model_id\": \"mercury-app\",\n    \"code_uid\": \"App.0.40.25.5-rand530568d8\"\n}",
      "text/html": [
       "<h3>Mercury Application</h3><small>This output won't appear in the web app.</small>"
      ],
      "text/plain": [
       "mercury.App"
      ]
     },
     "metadata": {},
     "output_type": "display_data"
    }
   ],
   "source": [
    "import mercury as mr\n",
    "import numpy as np\n",
    "from matplotlib import pyplot as plt\n",
    " \n",
    "app = mr.App(title=\"Slides demo 📝\", description=\"Wouldn't it be amazing to recompute slides during the show?\") "
   ]
  },
  {
   "cell_type": "raw",
   "id": "145cc905",
   "metadata": {
    "slideshow": {
     "slide_type": "slide"
    }
   },
   "source": [
    "# Interactive presentation 📝 "
   ]
  },
  {
   "cell_type": "markdown",
   "id": "56c43bab",
   "metadata": {
    "slideshow": {
     "slide_type": "slide"
    }
   },
   "source": [
    "## Recompute slides 🖥️\n",
    " \n",
    "- You can create interactive presentation with Mercury\n",
    "- Users can recompute slides by changing widgets\n",
    "- You can enter full screen by pressing **F** and exit with **Esc**\n",
    "- Please check next slides ➡️"
   ]
  },
  {
   "cell_type": "code",
   "execution_count": 3,
   "id": "18b41211",
   "metadata": {
    "scrolled": true,
    "slideshow": {
     "slide_type": "skip"
    }
   },
   "outputs": [
    {
     "data": {
      "application/mercury+json": "{\n    \"widget\": \"Text\",\n    \"value\": \"Piotr\",\n    \"rows\": 1,\n    \"label\": \"What is your name?\",\n    \"model_id\": \"cc996730dc9743a48c2c54694a4dedc4\",\n    \"code_uid\": \"Text.0.40.15.1-rand17d68aaf\",\n    \"url_key\": \"\",\n    \"disabled\": false,\n    \"hidden\": false\n}",
      "application/vnd.jupyter.widget-view+json": {
       "model_id": "cc996730dc9743a48c2c54694a4dedc4",
       "version_major": 2,
       "version_minor": 0
      },
      "text/plain": [
       "mercury.Text"
      ]
     },
     "metadata": {},
     "output_type": "display_data"
    }
   ],
   "source": [
    "name = mr.Text(label=\"What is your name?\", value=\"Piotr\")"
   ]
  },
  {
   "cell_type": "code",
   "execution_count": null,
   "id": "e54e31f4",
   "metadata": {
    "slideshow": {
     "slide_type": "slide"
    }
   },
   "outputs": [],
   "source": [
    "mr.Markdown(f\"\"\"## Hello {name.value}!\n",
    " \n",
    "{name.value}, this slide is recomputed after name change in the left side bar.\n",
    " \n",
    "Please change the name value in the left side bar and press **Enter**.\n",
    " \n",
    "Please check next slide ➡️\n",
    " \n",
    "\"\"\")"
   ]
  }
 ],
 "metadata": {
  "celltoolbar": "Slideshow",
  "kernelspec": {
   "display_name": "Python 3 (ipykernel)",
   "language": "python",
   "name": "python3"
  },
  "language_info": {
   "codemirror_mode": {
    "name": "ipython",
    "version": 3
   },
   "file_extension": ".py",
   "mimetype": "text/x-python",
   "name": "python",
   "nbconvert_exporter": "python",
   "pygments_lexer": "ipython3",
   "version": "3.9.18"
  }
 },
 "nbformat": 4,
 "nbformat_minor": 5
}
