{
 "cells": [
  {
   "cell_type": "markdown",
   "id": "8531f36e",
   "metadata": {
    "slideshow": {
     "slide_type": "slide"
    }
   },
   "source": [
    "# Introduction to Linux and Bash Shell Programming!\n",
    "\n",
    "## Presented by \n",
    "\n",
    "## Abhishek Mukherjee\n",
    "\n",
    "### Research Computing Facilitator, NJIT"
   ]
  },
  {
   "cell_type": "markdown",
   "id": "a382d8bd",
   "metadata": {
    "slideshow": {
     "slide_type": "slide"
    }
   },
   "source": [
    "# Session I - Introduction to Linux and Basic Linux Shell Commands"
   ]
  },
  {
   "cell_type": "markdown",
   "id": "55d0aadd",
   "metadata": {
    "slideshow": {
     "slide_type": "slide"
    }
   },
   "source": [
    "# What is Linux\n",
    "\n",
    "* Linux is an open-source Unix-like operating system, first released in 1991, by Linus Torvalds.\n",
    "\n",
    "* Today, Linux has 30+ variants available like Fedora, OpenSUSE, CentOS, Ubuntu etc.\n",
    "\n",
    "* Other Operating Systems available in the market are Windows, MacOS, Android and iOS."
   ]
  },
  {
   "cell_type": "markdown",
   "id": "eece2975",
   "metadata": {
    "slideshow": {
     "slide_type": "slide"
    }
   },
   "source": [
    "# Importance of Linux\n",
    "\n",
    "* Linux is Open Source allowing for the unlimited modification and distribution of the Linux operating system.\n",
    "\n",
    "* Linux offers security & stability\n",
    "\n",
    "* Linux is flexible & scalable"
   ]
  },
  {
   "cell_type": "markdown",
   "id": "d5bcaac4",
   "metadata": {
    "slideshow": {
     "slide_type": "slide"
    }
   },
   "source": [
    "# Importance of Learning Linux Commands\n",
    "\n",
    "* Linux commands are necessary where GUI (Graphic User Interface) feature is not available, particularly in HPC systems.\n",
    "\n",
    "* The command line interface (CLI) are necessary to work efficiently with computational and data science.\n",
    "\n",
    "* CLI requires less memory than GUI.\n",
    "\n",
    "* With GUI users often often run into repetitive operations.\n",
    "\n",
    "* To execute Linux commands, Linux terminal is used, which is a text-based interface used to control a Linux computer."
   ]
  },
  {
   "cell_type": "markdown",
   "id": "d3f12c02",
   "metadata": {
    "slideshow": {
     "slide_type": "slide"
    }
   },
   "source": [
    "# What is Shell?\n",
    "\n",
    "* The Shell is the name of the program that runs in the terminal (command line interpreter)\n",
    "\n",
    "* Interface between Kernel and User\n",
    "\n",
    "* Provides powerful programming capabilities"
   ]
  },
  {
   "cell_type": "markdown",
   "id": "1fb590e8",
   "metadata": {
    "slideshow": {
     "slide_type": "slide"
    }
   },
   "source": [
    "# Types of Shells"
   ]
  },
  {
   "cell_type": "code",
   "execution_count": null,
   "id": "147f34e8",
   "metadata": {
    "scrolled": true,
    "slideshow": {
     "slide_type": "skip"
    }
   },
   "outputs": [],
   "source": [
    "import pandas as pd\n",
    "import mercury as mr"
   ]
  },
  {
   "cell_type": "code",
   "execution_count": null,
   "id": "dadeddad",
   "metadata": {
    "slideshow": {
     "slide_type": "skip"
    }
   },
   "outputs": [],
   "source": [
    "#load = mr.Button(label=\"Load data\")"
   ]
  },
  {
   "cell_type": "code",
   "execution_count": null,
   "id": "c38feb0c",
   "metadata": {
    "slideshow": {
     "slide_type": "skip"
    }
   },
   "outputs": [],
   "source": [
    "df = pd.read_csv(\"assets/shells.csv\")\n",
    "blankIndex=[''] * len(df)\n",
    "df.index=blankIndex"
   ]
  },
  {
   "cell_type": "code",
   "execution_count": null,
   "id": "90af72af",
   "metadata": {
    "slideshow": {
     "slide_type": "skip"
    }
   },
   "outputs": [],
   "source": [
    "#if load.clicked:\n",
    "#    df = pd.read_csv(\"assets/shells.csv\")\n",
    "#    blankIndex=[''] * len(df)\n",
    "#   df.index=blankIndex"
   ]
  },
  {
   "cell_type": "code",
   "execution_count": null,
   "id": "ffe9f399",
   "metadata": {
    "slideshow": {
     "slide_type": "fragment"
    }
   },
   "outputs": [],
   "source": [
    "df.head() if df is not None else print(\"Data not loaded\")"
   ]
  },
  {
   "attachments": {},
   "cell_type": "markdown",
   "id": "d6917e5a",
   "metadata": {
    "slideshow": {
     "slide_type": "slide"
    }
   },
   "source": [
    "# Access to NJIT HPC System\n",
    "\n",
    "* Getting a Login: Students can obtain a login either by taking a class that uses one of the systems or by asking their faculty adviser email [hpc@njit.edu](hpc@njit.edu) on their behalf\n",
    "* Linux : Open terminal and enter the following\n",
    "`localhost> ssh -X -Y ucid@HPC_HOST.njit.edu` \n",
    "User needs to use NJIT UCID password once prompted. `-X -Y` flag can be omitted if user is not using a graphic interface. Substitute \"Wulver\" or \"lochness\" for \"HPC_HOST”\n",
    "* MacOS: Open a Terminal window. `Applications -> Utilities -> Terminal` and use the above command."
   ]
  }
 ],
 "metadata": {
  "celltoolbar": "Slideshow",
  "kernelspec": {
   "display_name": "Python 3 (ipykernel)",
   "language": "python",
   "name": "python3"
  },
  "language_info": {
   "codemirror_mode": {
    "name": "ipython",
    "version": 3
   },
   "file_extension": ".py",
   "mimetype": "text/x-python",
   "name": "python",
   "nbconvert_exporter": "python",
   "pygments_lexer": "ipython3",
   "version": "3.9.18"
  }
 },
 "nbformat": 4,
 "nbformat_minor": 5
}
